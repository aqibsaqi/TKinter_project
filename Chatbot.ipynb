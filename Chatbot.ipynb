{
 "cells": [
  {
   "cell_type": "code",
   "execution_count": 8,
   "id": "b0e03258",
   "metadata": {},
   "outputs": [],
   "source": [
    "import tkinter as tk\n",
    "from tkinter import scrolledtext"
   ]
  },
  {
   "cell_type": "code",
   "execution_count": 9,
   "id": "af0c35b6",
   "metadata": {},
   "outputs": [],
   "source": [
    "# Simple chatbot response logic\n",
    "def get_bot_response(user_input):\n",
    "    user_input = user_input.lower()\n",
    "    if \"hello\" in user_input:\n",
    "        return \"Hello! How can I help you today?\"\n",
    "    elif \"how are you\" in user_input:\n",
    "        return \"I'm just a bot, but I'm doing fine!\"\n",
    "    elif \"bye\" in user_input:\n",
    "        return \"Goodbye!\"\n",
    "    else:\n",
    "        return \"I'm not sure I understand. Can you rephrase?\"\n"
   ]
  },
  {
   "cell_type": "code",
   "execution_count": 10,
   "id": "5cfcdb36",
   "metadata": {},
   "outputs": [],
   "source": [
    "# Handle send button click\n",
    "def send_message():\n",
    "    user_msg = user_input.get()\n",
    "    if user_msg.strip() == \"\":\n",
    "        return\n",
    "    \n",
    "    chat_window.config(state=tk.NORMAL)\n",
    "    chat_window.insert(tk.END, \"You: \" + user_msg + \"\\n\")\n",
    "    chat_window.insert(tk.END, \"Bot: \" + get_bot_response(user_msg) + \"\\n\\n\")\n",
    "    chat_window.config(state=tk.DISABLED)\n",
    "    chat_window.yview(tk.END)  # Scroll to the bottom\n",
    "    \n",
    "    user_input.delete(0, tk.END)"
   ]
  },
  {
   "cell_type": "code",
   "execution_count": 19,
   "id": "d4da06b2",
   "metadata": {},
   "outputs": [],
   "source": [
    "# Main window\n",
    "root = tk.Tk()\n",
    "root.title(\"Chatbot\")\n",
    "root.geometry(\"400x500\")\n",
    "root.configure(bg=\"lightgray\")\n",
    "\n",
    "# Chat window (scrolled text)\n",
    "chat_window = scrolledtext.ScrolledText(root, state=tk.DISABLED, font=(\"Arial\", 12), wrap=tk.WORD)\n",
    "chat_window.pack(padx=10, pady=10, fill=tk.BOTH)\n",
    "\n",
    "# Input frame\n",
    "input_frame = tk.Frame(root, bg=\"lightgray\")\n",
    "input_frame.pack(fill=tk.X, padx=50, pady=10, expand=True)\n",
    "\n",
    "# Entry for user input\n",
    "user_input = tk.Entry(input_frame, font=(\"Arial\", 14))\n",
    "user_input.pack(side=tk.LEFT, fill=tk.X, expand=True, padx=(0, 10))\n",
    "user_input.bind(\"<Return>\", lambda event: send_message())  # Send on Enter\n",
    "\n",
    "# Send button\n",
    "send_button = tk.Button(input_frame, text=\"Send\", font=(\"Arial\", 12), command=send_message)\n",
    "send_button.pack(side=tk.RIGHT)\n",
    "\n",
    "root.mainloop()"
   ]
  },
  {
   "cell_type": "code",
   "execution_count": null,
   "id": "ece793da",
   "metadata": {},
   "outputs": [],
   "source": []
  }
 ],
 "metadata": {
  "kernelspec": {
   "display_name": "Python 3 (ipykernel)",
   "language": "python",
   "name": "python3"
  },
  "language_info": {
   "codemirror_mode": {
    "name": "ipython",
    "version": 3
   },
   "file_extension": ".py",
   "mimetype": "text/x-python",
   "name": "python",
   "nbconvert_exporter": "python",
   "pygments_lexer": "ipython3",
   "version": "3.11.7"
  }
 },
 "nbformat": 4,
 "nbformat_minor": 5
}
