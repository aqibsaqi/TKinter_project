{
 "cells": [
  {
   "cell_type": "code",
   "execution_count": 1,
   "id": "b268365f",
   "metadata": {},
   "outputs": [],
   "source": [
    "import tkinter as tk\n",
    "import math"
   ]
  },
  {
   "cell_type": "code",
   "execution_count": 2,
   "id": "affb7b9f",
   "metadata": {},
   "outputs": [],
   "source": [
    "def press(symbol):\n",
    "    global expression\n",
    "    expression += str(symbol)\n",
    "    input_var.set(expression)\n"
   ]
  },
  {
   "cell_type": "code",
   "execution_count": 3,
   "id": "9e2e8a9b",
   "metadata": {},
   "outputs": [],
   "source": [
    "def equalpress():\n",
    "    global expression\n",
    "    try:\n",
    "        result = str(eval(expression))\n",
    "        input_var.set(result)\n",
    "        expression = result\n",
    "    except:\n",
    "        input_var.set(\"Error\")\n",
    "        expression = \"\""
   ]
  },
  {
   "cell_type": "code",
   "execution_count": 4,
   "id": "f3c32b19",
   "metadata": {},
   "outputs": [],
   "source": [
    "def clear():\n",
    "    global expression\n",
    "    expression = \"\"\n",
    "    input_var.set(\"\")\n"
   ]
  },
  {
   "cell_type": "code",
   "execution_count": 5,
   "id": "65d3738b",
   "metadata": {},
   "outputs": [],
   "source": [
    "\n",
    "def delete():\n",
    "    global expression\n",
    "    expression = expression[:-1]\n",
    "    input_var.set(expression)\n"
   ]
  },
  {
   "cell_type": "code",
   "execution_count": 6,
   "id": "1cc3efa7",
   "metadata": {},
   "outputs": [],
   "source": [
    "# Scientific Functions\n",
    "def apply_func(func_name):\n",
    "    global expression\n",
    "    try:\n",
    "        if func_name == \"√\":\n",
    "            expression = str(math.sqrt(float(expression)))\n",
    "        elif func_name == \"log\":\n",
    "            expression = str(math.log10(float(expression)))\n",
    "        elif func_name == \"ln\":\n",
    "            expression = str(math.log(float(expression)))\n",
    "        elif func_name == \"sin\":\n",
    "            expression = str(math.sin(math.radians(float(expression))))\n",
    "        elif func_name == \"cos\":\n",
    "            expression = str(math.cos(math.radians(float(expression))))\n",
    "        elif func_name == \"tan\":\n",
    "            expression = str(math.tan(math.radians(float(expression))))\n",
    "        elif func_name == \"fact\":\n",
    "            expression = str(math.factorial(int(expression)))\n",
    "        input_var.set(expression)\n",
    "    except:\n",
    "        input_var.set(\"Error\")\n",
    "        expression = \"\"\n"
   ]
  },
  {
   "cell_type": "code",
   "execution_count": 15,
   "id": "e2340a36",
   "metadata": {},
   "outputs": [],
   "source": [
    "def create_button(text, row, column, width=None, height=2, command=None):\n",
    "    tk.Button(\n",
    "        btn_frame, text=text, width=width if width else 5, height=height,\n",
    "        font=('Arial', 14), command=command or (lambda t=text: press(t))\n",
    "    ).grid(row=row, column=column, padx=2, pady=5, sticky=\"nsew\")\n",
    "\n"
   ]
  },
  {
   "cell_type": "code",
   "execution_count": 16,
   "id": "f6529529",
   "metadata": {},
   "outputs": [],
   "source": [
    "# Create main window\n",
    "root = tk.Tk()\n",
    "root.title(\"Scientific Calculator\")\n",
    "root.geometry(\"600x600\")\n",
    "root.configure(bg=\"lightgray\")\n",
    "root.resizable(False ,False)\n",
    "expression = \"\"\n",
    "# Input field\n",
    "input_var = tk.StringVar()\n",
    "input_field = tk.Entry(root, textvariable=input_var, font=('Arial', 24), bd=10, relief='ridge', justify='right')\n",
    "input_field.pack(fill=\"both\", padx=10, pady=10, ipady=10)\n",
    "# Buttons frame\n",
    "btn_frame = tk.Frame(root, bg=\"lightgray\")\n",
    "btn_frame.pack()\n",
    "\n",
    "# First row: Scientific buttons\n",
    "create_button(\"√\", 0, 0, command=lambda: apply_func(\"√\"))\n",
    "create_button(\"log\", 0, 1, command=lambda: apply_func(\"log\"))\n",
    "create_button(\"ln\", 0, 2, command=lambda: apply_func(\"ln\"))\n",
    "create_button(\"fact\", 0, 3, command=lambda: apply_func(\"fact\"))\n",
    "\n",
    "# Second row: sin, cos, tan, clear\n",
    "create_button(\"sin\", 1, 0, command=lambda: apply_func(\"sin\"))\n",
    "create_button(\"cos\", 1, 1, command=lambda: apply_func(\"cos\"))\n",
    "create_button(\"tan\", 1, 2, command=lambda: apply_func(\"tan\"))\n",
    "create_button(\"C\", 1, 3, command=clear)\n",
    "\n",
    "# Third row: digits and /\n",
    "create_button(\"7\", 2, 0)\n",
    "create_button(\"8\", 2, 1)\n",
    "create_button(\"9\", 2, 2)\n",
    "create_button(\"/\", 2, 3)\n",
    "\n",
    "# Fourth row\n",
    "create_button(\"4\", 3, 0)\n",
    "create_button(\"5\", 3, 1)\n",
    "create_button(\"6\", 3, 2)\n",
    "create_button(\"*\", 3, 3)\n",
    "\n",
    "# Fifth row\n",
    "create_button(\"1\", 4, 0)\n",
    "create_button(\"2\", 4, 1)\n",
    "create_button(\"3\", 4, 2)\n",
    "create_button(\"-\", 4, 3)\n",
    "\n",
    "# Sixth row\n",
    "create_button(\"0\", 5, 0)\n",
    "create_button(\".\", 5, 1)\n",
    "create_button(\"=\", 5, 2, command=equalpress)\n",
    "create_button(\"+\", 5, 3)\n",
    "\n",
    "# Seventh row: Delete\n",
    "create_button(\"DEL\", 6, 0, width=20, command=delete)\n",
    "\n",
    "root.mainloop()"
   ]
  },
  {
   "cell_type": "code",
   "execution_count": null,
   "id": "0de57b35",
   "metadata": {},
   "outputs": [],
   "source": []
  }
 ],
 "metadata": {
  "kernelspec": {
   "display_name": "Python 3 (ipykernel)",
   "language": "python",
   "name": "python3"
  },
  "language_info": {
   "codemirror_mode": {
    "name": "ipython",
    "version": 3
   },
   "file_extension": ".py",
   "mimetype": "text/x-python",
   "name": "python",
   "nbconvert_exporter": "python",
   "pygments_lexer": "ipython3",
   "version": "3.11.7"
  }
 },
 "nbformat": 4,
 "nbformat_minor": 5
}
