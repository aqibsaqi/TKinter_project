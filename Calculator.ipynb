{
 "cells": [
  {
   "cell_type": "code",
   "execution_count": 1,
   "id": "c1f24edb",
   "metadata": {},
   "outputs": [],
   "source": [
    "import tkinter as tk"
   ]
  },
  {
   "cell_type": "code",
   "execution_count": 2,
   "id": "a9147663",
   "metadata": {},
   "outputs": [],
   "source": [
    "# Function to update expression in the input field\n",
    "def press(num):\n",
    "    entry_var.set(entry_var.get() + str(num))\n"
   ]
  },
  {
   "cell_type": "code",
   "execution_count": 3,
   "id": "3444e3f0",
   "metadata": {},
   "outputs": [],
   "source": [
    "# Function to evaluate the expression\n",
    "def equalpress():\n",
    "    try:\n",
    "        result = str(eval(entry_var.get()))\n",
    "        entry_var.set(result)\n",
    "    except:\n",
    "        entry_var.set(\"\")\n"
   ]
  },
  {
   "cell_type": "code",
   "execution_count": 4,
   "id": "29f77cee",
   "metadata": {},
   "outputs": [],
   "source": [
    "# Function to clear the input field\n",
    "def clear():\n",
    "    entry_var.set(\"\")\n"
   ]
  },
  {
   "cell_type": "code",
   "execution_count": null,
   "id": "b5039706",
   "metadata": {},
   "outputs": [],
   "source": [
    "# Create main window\n",
    "root = tk.Tk()\n",
    "root.title(\"Calculator\")\n",
    "root.geometry(\"300x400\")\n",
    "# root.resizable(False, False)\n",
    "# Input field\n",
    "entry_var = tk.StringVar()\n",
    "entry = tk.Entry(root,textvariable=entry_var, font=('Arial', 20),bd=10, insertwidth=2,width=14,borderwidth=4, justify='right')\n",
    "entry.grid(row=0, column=0, columnspan=4)\n",
    "# Button layout\n",
    "buttons = [\n",
    "    ('7', 1, 0), ('8', 1, 1), ('9', 1, 2), ('/', 1, 3),\n",
    "    ('4', 2, 0), ('5', 2, 1), ('6', 2, 2), ('*', 2, 3),\n",
    "    ('1', 3, 0), ('2', 3, 1), ('3', 3, 2), ('-', 3, 3),\n",
    "    ('0', 4, 0), ('.', 4, 1), ('=', 4, 2), ('+', 4, 3),\n",
    "]\n",
    "for (text, row, col) in buttons:\n",
    "    if text == \"=\":\n",
    "        tk.Button(root, text=text, padx=20, pady=20, font=('Arial', 14), command=equalpress).grid(row=row, column=col)\n",
    "    else:\n",
    "        tk.Button(root, text=text, padx=20, pady=20, font=('Arial', 14), command=lambda t=text: press(t)).grid(row=row, column=col)\n",
    "\n",
    "# Clear button\n",
    "tk.Button(root, text='Cl', padx=20, pady=20, font=('Arial', 14), command=clear).grid(row=5, column=0, columnspan=4, sticky=\"nsew\")\n",
    "\n",
    "root.mainloop()"
   ]
  },
  {
   "cell_type": "code",
   "execution_count": 6,
   "id": "7d90371c",
   "metadata": {},
   "outputs": [],
   "source": []
  },
  {
   "cell_type": "code",
   "execution_count": 7,
   "id": "9cc5ef2a",
   "metadata": {},
   "outputs": [],
   "source": []
  },
  {
   "cell_type": "code",
   "execution_count": 8,
   "id": "ea0cba68",
   "metadata": {},
   "outputs": [],
   "source": [
    "\n"
   ]
  },
  {
   "cell_type": "code",
   "execution_count": null,
   "id": "975f3860",
   "metadata": {},
   "outputs": [],
   "source": []
  }
 ],
 "metadata": {
  "kernelspec": {
   "display_name": "Python 3 (ipykernel)",
   "language": "python",
   "name": "python3"
  },
  "language_info": {
   "codemirror_mode": {
    "name": "ipython",
    "version": 3
   },
   "file_extension": ".py",
   "mimetype": "text/x-python",
   "name": "python",
   "nbconvert_exporter": "python",
   "pygments_lexer": "ipython3",
   "version": "3.11.7"
  }
 },
 "nbformat": 4,
 "nbformat_minor": 5
}
